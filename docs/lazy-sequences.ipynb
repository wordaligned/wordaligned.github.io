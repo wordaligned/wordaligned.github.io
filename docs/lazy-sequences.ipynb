{
 "cells": [
  {
   "cell_type": "markdown",
   "metadata": {
    "deletable": true,
    "editable": true,
    "slideshow": {
     "slide_type": "slide"
    }
   },
   "source": [
    "# Lazy sequences working hard\n",
    "\n",
    "[@thomasguest](https://twitter.com/thomasguest) • [wordaligned.org](http://wordaligned.org) • [@clinithinkwales](https://twitter.com/clinithinkwales)"
   ]
  },
  {
   "cell_type": "markdown",
   "metadata": {
    "deletable": true,
    "editable": true,
    "slideshow": {
     "slide_type": "slide"
    }
   },
   "source": [
    "A lazy sequence defers supplying values to clients until they're needed. This makes it possible to work with large and even infinite sequences using limited memory.\n",
    "\n",
    "Python provides language and library level support for lazy sequences."
   ]
  },
  {
   "cell_type": "code",
   "execution_count": 1,
   "metadata": {
    "collapsed": false,
    "deletable": true,
    "editable": true,
    "slideshow": {
     "slide_type": "slide"
    }
   },
   "outputs": [
    {
     "data": {
      "text/plain": [
       "range(0, 10000000000000000000000000000000000000000000000000000000000000000000000000000000000000000000000000000)"
      ]
     },
     "execution_count": 1,
     "metadata": {},
     "output_type": "execute_result"
    }
   ],
   "source": [
    "G = 10 ** 100\n",
    "R = range(G)\n",
    "R"
   ]
  },
  {
   "cell_type": "code",
   "execution_count": 2,
   "metadata": {
    "collapsed": false,
    "deletable": true,
    "editable": true,
    "slideshow": {
     "slide_type": "fragment"
    }
   },
   "outputs": [
    {
     "name": "stdout",
     "output_type": "stream",
     "text": [
      "[0, 1, 2, 3, 4, 5, 6, 7, 8, 9] \n",
      " 10\n"
     ]
    }
   ],
   "source": [
    "def take(xs, n):\n",
    "    xs = iter(xs)\n",
    "    result = [next(xs) for _ in range(n)]\n",
    "    return result\n",
    "\n",
    "rs = iter(R)\n",
    "print(take(rs, 10), '\\n', next(rs))"
   ]
  },
  {
   "cell_type": "markdown",
   "metadata": {
    "deletable": true,
    "editable": true,
    "slideshow": {
     "slide_type": "slide"
    }
   },
   "source": [
    "### Procrastination\n",
    "The call to `range()` creates a range object.\n",
    "This isn't a collection in memory.\n",
    "Instead, the object stores start, stop, step values, so it can be iterated over etc.\n",
    "\n",
    "Activity is deferred until necessary.\n",
    "\n",
    "This is lazy working, not lazy thinking."
   ]
  },
  {
   "cell_type": "markdown",
   "metadata": {
    "deletable": true,
    "editable": true,
    "slideshow": {
     "slide_type": "slide"
    }
   },
   "source": [
    "### Historical note \n",
    "In Python 2 `range()` created a list and `xrange()` behaved lazily.\n",
    "Python 3 simplified things: there's no need to have both.\n",
    "Lazy is sufficient."
   ]
  },
  {
   "cell_type": "code",
   "execution_count": 3,
   "metadata": {
    "collapsed": false,
    "deletable": true,
    "editable": true,
    "slideshow": {
     "slide_type": "fragment"
    }
   },
   "outputs": [
    {
     "data": {
      "text/plain": [
       "[0, 1, 2, 3, 4, 5, 6, 7, 8, 9]"
      ]
     },
     "execution_count": 3,
     "metadata": {},
     "output_type": "execute_result"
    }
   ],
   "source": [
    "list(range(10))"
   ]
  },
  {
   "cell_type": "markdown",
   "metadata": {
    "deletable": true,
    "editable": true,
    "slideshow": {
     "slide_type": "fragment"
    }
   },
   "source": [
    "See also: `map()`, `filter()`, `dict.keys()` ..."
   ]
  },
  {
   "cell_type": "markdown",
   "metadata": {
    "collapsed": true,
    "deletable": true,
    "editable": true,
    "slideshow": {
     "slide_type": "slide"
    }
   },
   "source": [
    "## Lazy-*ish*\n",
    "Range objects are not *very* lazy or sequential. They give the illusion of being all there all of the time.\n",
    "- You can get their length directly\n",
    "- You can access the value at an index\n",
    "- You can slice them\n",
    "- You can check membership"
   ]
  },
  {
   "cell_type": "code",
   "execution_count": 4,
   "metadata": {
    "collapsed": false,
    "deletable": true,
    "editable": true,
    "slideshow": {
     "slide_type": "slide"
    }
   },
   "outputs": [
    {
     "ename": "OverflowError",
     "evalue": "Python int too large to convert to C ssize_t",
     "output_type": "error",
     "traceback": [
      "\u001b[1;31m---------------------------------------------------------------------------\u001b[0m",
      "\u001b[1;31mOverflowError\u001b[0m                             Traceback (most recent call last)",
      "\u001b[1;32m<ipython-input-4-3c42657e37a7>\u001b[0m in \u001b[0;36m<module>\u001b[1;34m()\u001b[0m\n\u001b[1;32m----> 1\u001b[1;33m \u001b[0mlen\u001b[0m\u001b[1;33m(\u001b[0m\u001b[0mR\u001b[0m\u001b[1;33m)\u001b[0m\u001b[1;33m\u001b[0m\u001b[0m\n\u001b[0m",
      "\u001b[1;31mOverflowError\u001b[0m: Python int too large to convert to C ssize_t"
     ]
    }
   ],
   "source": [
    "len(R)"
   ]
  },
  {
   "cell_type": "code",
   "execution_count": 5,
   "metadata": {
    "collapsed": false,
    "deletable": true,
    "editable": true,
    "slideshow": {
     "slide_type": "fragment"
    }
   },
   "outputs": [
    {
     "data": {
      "text/plain": [
       "666"
      ]
     },
     "execution_count": 5,
     "metadata": {},
     "output_type": "execute_result"
    }
   ],
   "source": [
    "R[666]  "
   ]
  },
  {
   "cell_type": "code",
   "execution_count": 6,
   "metadata": {
    "collapsed": false,
    "deletable": true,
    "editable": true,
    "slideshow": {
     "slide_type": "fragment"
    }
   },
   "outputs": [
    {
     "data": {
      "text/plain": [
       "range(100, 200, 25)"
      ]
     },
     "execution_count": 6,
     "metadata": {},
     "output_type": "execute_result"
    }
   ],
   "source": [
    "R[100:200:25]"
   ]
  },
  {
   "cell_type": "code",
   "execution_count": 7,
   "metadata": {
    "collapsed": false,
    "deletable": true,
    "editable": true,
    "slideshow": {
     "slide_type": "fragment"
    }
   },
   "outputs": [
    {
     "data": {
      "text/plain": [
       "True"
      ]
     },
     "execution_count": 7,
     "metadata": {},
     "output_type": "execute_result"
    }
   ],
   "source": [
    "289 in R[::17]"
   ]
  },
  {
   "cell_type": "markdown",
   "metadata": {
    "collapsed": true,
    "deletable": true,
    "editable": true,
    "slideshow": {
     "slide_type": "slide"
    }
   },
   "source": [
    "## Generators\n",
    "Generators offer language level support for lazy lists. \n",
    "\n",
    "Generators `yield` values one by one. \n",
    "\n",
    "You can step using `next()` or iterate using `for`.\n",
    "\n",
    "You cannot go backwards, query the length, etc."
   ]
  },
  {
   "cell_type": "code",
   "execution_count": 8,
   "metadata": {
    "collapsed": false,
    "deletable": true,
    "editable": true,
    "slideshow": {
     "slide_type": "slide"
    }
   },
   "outputs": [
    {
     "data": {
      "text/plain": [
       "<generator object flip_a_coin at 0x0000008DA4112888>"
      ]
     },
     "execution_count": 8,
     "metadata": {},
     "output_type": "execute_result"
    }
   ],
   "source": [
    "# Generator function\n",
    "import random\n",
    "\n",
    "def flip_a_coin():\n",
    "    'Generate a random sequence of Heads/Tails'\n",
    "    while True:\n",
    "        yield random.choice(['Heads', 'Tails'])\n",
    "\n",
    "flip_a_coin()"
   ]
  },
  {
   "cell_type": "code",
   "execution_count": 9,
   "metadata": {
    "collapsed": false,
    "deletable": true,
    "editable": true,
    "slideshow": {
     "slide_type": "fragment"
    }
   },
   "outputs": [
    {
     "name": "stdout",
     "output_type": "stream",
     "text": [
      "Tails Heads\n"
     ]
    },
    {
     "data": {
      "text/plain": [
       "'Tails Heads Tails Tails Heads Heads Tails Heads Tails Tails'"
      ]
     },
     "execution_count": 9,
     "metadata": {},
     "output_type": "execute_result"
    }
   ],
   "source": [
    "ht = flip_a_coin()\n",
    "print(next(ht), next(ht))\n",
    "' '.join(next(ht) for _ in range(10))"
   ]
  },
  {
   "cell_type": "code",
   "execution_count": 10,
   "metadata": {
    "collapsed": false,
    "deletable": true,
    "editable": true,
    "slideshow": {
     "slide_type": "slide"
    }
   },
   "outputs": [
    {
     "data": {
      "text/plain": [
       "(500693, 0.500693)"
      ]
     },
     "execution_count": 10,
     "metadata": {},
     "output_type": "execute_result"
    }
   ],
   "source": [
    "M = 1000 * 1000\n",
    "heads = sum(1 for h, _ in zip(ht, range(M)) if h == 'Heads')\n",
    "heads, heads/M"
   ]
  },
  {
   "cell_type": "code",
   "execution_count": 11,
   "metadata": {
    "collapsed": false,
    "deletable": true,
    "editable": true,
    "slideshow": {
     "slide_type": "fragment"
    }
   },
   "outputs": [
    {
     "name": "stdout",
     "output_type": "stream",
     "text": [
      "[(0, 'Tails'), (1, 'Heads'), (2, 'Heads'), (3, 'Tails'), (4, 'Heads')]\n"
     ]
    },
    {
     "data": {
      "text/plain": [
       "(2689, 'Heads')"
      ]
     },
     "execution_count": 11,
     "metadata": {},
     "output_type": "execute_result"
    }
   ],
   "source": [
    "import collections\n",
    "\n",
    "last10 = collections.deque(take(ht, 10), maxlen=10)\n",
    "\n",
    "tosses = enumerate(ht)\n",
    "print(take(tosses, 5))\n",
    "while len(set(last10)) == 2:\n",
    "    last10.append(next(tosses)[1])\n",
    "\n",
    "next(tosses)"
   ]
  },
  {
   "cell_type": "code",
   "execution_count": 12,
   "metadata": {
    "collapsed": false,
    "deletable": true,
    "editable": true,
    "slideshow": {
     "slide_type": "slide"
    }
   },
   "outputs": [
    {
     "data": {
      "text/plain": [
       "<generator object <genexpr> at 0x0000008DA43A4938>"
      ]
     },
     "execution_count": 12,
     "metadata": {},
     "output_type": "execute_result"
    }
   ],
   "source": [
    "# Generator expressions look like list comprehensions\n",
    "# but they create generators, not lists\n",
    "(x * x for x in R)"
   ]
  },
  {
   "cell_type": "code",
   "execution_count": 13,
   "metadata": {
    "collapsed": false,
    "deletable": true,
    "editable": true,
    "slideshow": {
     "slide_type": "fragment"
    }
   },
   "outputs": [
    {
     "name": "stdout",
     "output_type": "stream",
     "text": [
      "[0, 1, 4, 9, 16, 25, 36, 49, 64, 81]\n",
      "100\n"
     ]
    }
   ],
   "source": [
    "sqs = (x * x for x in R)\n",
    "print(take(sqs,10))\n",
    "print(next(sqs))"
   ]
  },
  {
   "cell_type": "markdown",
   "metadata": {
    "deletable": true,
    "editable": true,
    "slideshow": {
     "slide_type": "slide"
    }
   },
   "source": [
    "## Standard Generators\n",
    "Many functions in the Python standard library are generators."
   ]
  },
  {
   "cell_type": "code",
   "execution_count": 14,
   "metadata": {
    "collapsed": false,
    "deletable": true,
    "editable": true,
    "slideshow": {
     "slide_type": "slide"
    }
   },
   "outputs": [
    {
     "data": {
      "text/plain": [
       "('C:/Python35',\n",
       " ['DLLs', 'Doc', 'include', 'Lib', 'libs', 'Scripts', 'Tools'],\n",
       " ['LICENSE.txt',\n",
       "  'NEWS.txt',\n",
       "  'python.exe',\n",
       "  'python.pdb',\n",
       "  'python3.dll',\n",
       "  'python35.dll',\n",
       "  'python35.pdb',\n",
       "  'python35_d.dll',\n",
       "  'python35_d.pdb',\n",
       "  'python3_d.dll',\n",
       "  'pythonw.exe',\n",
       "  'pythonw.pdb',\n",
       "  'pythonw_d.exe',\n",
       "  'pythonw_d.pdb',\n",
       "  'python_d.exe',\n",
       "  'python_d.pdb',\n",
       "  'README.txt',\n",
       "  'vcruntime140.dll'])"
      ]
     },
     "execution_count": 14,
     "metadata": {},
     "output_type": "execute_result"
    }
   ],
   "source": [
    "import os\n",
    "\n",
    "PY = 'C:/Python35'\n",
    "tree = os.walk(PY)\n",
    "next(tree)"
   ]
  },
  {
   "cell_type": "code",
   "execution_count": 15,
   "metadata": {
    "collapsed": false,
    "deletable": true,
    "editable": true,
    "slideshow": {
     "slide_type": "slide"
    }
   },
   "outputs": [
    {
     "data": {
      "text/plain": [
       "['C:/Python35',\n",
       " 'C:/Python35\\\\DLLs',\n",
       " 'C:/Python35\\\\Doc',\n",
       " 'C:/Python35\\\\include',\n",
       " 'C:/Python35\\\\Lib']"
      ]
     },
     "execution_count": 15,
     "metadata": {},
     "output_type": "execute_result"
    }
   ],
   "source": [
    "subtrees = (r for r, d, f in os.walk(PY))\n",
    "take(subtrees, 5)"
   ]
  },
  {
   "cell_type": "code",
   "execution_count": 16,
   "metadata": {
    "collapsed": false,
    "deletable": true,
    "editable": true,
    "slideshow": {
     "slide_type": "slide"
    }
   },
   "outputs": [
    {
     "data": {
      "text/plain": [
       "'C:/Python35\\\\Lib\\\\_pydecimal.py'"
      ]
     },
     "execution_count": 16,
     "metadata": {},
     "output_type": "execute_result"
    }
   ],
   "source": [
    "def ilen(xs):\n",
    "    \"Return the length of an iterable\"\n",
    "    return sum(1 for _ in xs)\n",
    "\n",
    "all_files = (os.path.join(r, f)\n",
    "             for r, _, ff in os.walk(PY)\n",
    "             for f in ff)\n",
    "\n",
    "py_files = (py for py in all_files if py.endswith('.py'))\n",
    "\n",
    "max(py_files, key=lambda py: ilen(open(py, errors='ignore')))"
   ]
  },
  {
   "cell_type": "markdown",
   "metadata": {
    "deletable": true,
    "editable": true,
    "slideshow": {
     "slide_type": "slide"
    }
   },
   "source": [
    "## Shell Pipeline\n",
    "    $ find /c/Python35 -name \"*.py\" | xargs -L1 wc -l | sort -rn | head -1\n",
    "    6399 /c/Python35/Lib/_pydecimal.py\n"
   ]
  },
  {
   "cell_type": "markdown",
   "metadata": {
    "collapsed": true,
    "deletable": true,
    "editable": true,
    "slideshow": {
     "slide_type": "slide"
    }
   },
   "source": [
    "## Chunked"
   ]
  },
  {
   "cell_type": "code",
   "execution_count": 17,
   "metadata": {
    "collapsed": false,
    "deletable": true,
    "editable": true,
    "slideshow": {
     "slide_type": "fragment"
    }
   },
   "outputs": [
    {
     "data": {
      "text/plain": [
       "[0, 1, 2]"
      ]
     },
     "execution_count": 17,
     "metadata": {},
     "output_type": "execute_result"
    }
   ],
   "source": [
    "rs = iter(R)\n",
    "r3 = [rs, rs, rs]\n",
    "[next(r) for r in r3]"
   ]
  },
  {
   "cell_type": "code",
   "execution_count": 18,
   "metadata": {
    "collapsed": false,
    "deletable": true,
    "editable": true,
    "slideshow": {
     "slide_type": "fragment"
    }
   },
   "outputs": [
    {
     "data": {
      "text/plain": [
       "[3, 4, 5]"
      ]
     },
     "execution_count": 18,
     "metadata": {},
     "output_type": "execute_result"
    }
   ],
   "source": [
    "[next(r) for r in r3]"
   ]
  },
  {
   "cell_type": "code",
   "execution_count": 19,
   "metadata": {
    "collapsed": false,
    "deletable": true,
    "editable": true,
    "slideshow": {
     "slide_type": "fragment"
    }
   },
   "outputs": [
    {
     "data": {
      "text/plain": [
       "[(6, 7, 8), (9, 10, 11), (12, 13, 14)]"
      ]
     },
     "execution_count": 19,
     "metadata": {},
     "output_type": "execute_result"
    }
   ],
   "source": [
    "z = zip(*r3)\n",
    "take(z, 3)"
   ]
  },
  {
   "cell_type": "code",
   "execution_count": 20,
   "metadata": {
    "collapsed": false,
    "deletable": true,
    "editable": true,
    "slideshow": {
     "slide_type": "fragment"
    }
   },
   "outputs": [
    {
     "data": {
      "text/plain": [
       "[(0, 1000), (2000, 3000), (4000, 5000), (6000, 7000), (8000, 9000)]"
      ]
     },
     "execution_count": 20,
     "metadata": {},
     "output_type": "execute_result"
    }
   ],
   "source": [
    "def chunks(xs, n):  \n",
    "    return zip(*[iter(xs)]*n)\n",
    "\n",
    "take(chunks(R[::1000], 2), 5)"
   ]
  },
  {
   "cell_type": "markdown",
   "metadata": {
    "deletable": true,
    "editable": true,
    "slideshow": {
     "slide_type": "slide"
    }
   },
   "source": [
    "## Flattened"
   ]
  },
  {
   "cell_type": "code",
   "execution_count": 21,
   "metadata": {
    "collapsed": false,
    "deletable": true,
    "editable": true,
    "slideshow": {
     "slide_type": "fragment"
    }
   },
   "outputs": [
    {
     "data": {
      "text/plain": [
       "<itertools.chain at 0xcbf91d90b8>"
      ]
     },
     "execution_count": 21,
     "metadata": {},
     "output_type": "execute_result"
    }
   ],
   "source": [
    "import itertools\n",
    "flatten = itertools.chain\n",
    "flatten('abc', 'def')"
   ]
  },
  {
   "cell_type": "code",
   "execution_count": 22,
   "metadata": {
    "collapsed": false,
    "deletable": true,
    "editable": true,
    "slideshow": {
     "slide_type": "fragment"
    }
   },
   "outputs": [
    {
     "data": {
      "text/plain": [
       "['a', 'b', 'c', 'd', 'e', 'f']"
      ]
     },
     "execution_count": 22,
     "metadata": {},
     "output_type": "execute_result"
    }
   ],
   "source": [
    "list(_)"
   ]
  },
  {
   "cell_type": "code",
   "execution_count": 23,
   "metadata": {
    "collapsed": false,
    "deletable": true,
    "editable": true,
    "slideshow": {
     "slide_type": "fragment"
    }
   },
   "outputs": [
    {
     "data": {
      "text/plain": [
       "[0, 1000, 2000, 3000, 4000]"
      ]
     },
     "execution_count": 23,
     "metadata": {},
     "output_type": "execute_result"
    }
   ],
   "source": [
    "xs = chunks(R[::1000], 2)\n",
    "flatten = itertools.chain.from_iterable\n",
    "ys = flatten(xs)\n",
    "take(ys, 5)"
   ]
  },
  {
   "cell_type": "markdown",
   "metadata": {
    "deletable": true,
    "editable": true,
    "slideshow": {
     "slide_type": "slide"
    }
   },
   "source": [
    "## Itertools\n",
    "- my favourite Python module\n",
    "- composable functions for working with lazy lists\n",
    "- examples\n",
    "  - count()\n",
    "  - islice()\n",
    "  - cycle()\n",
    "  - repeat()"
   ]
  },
  {
   "cell_type": "code",
   "execution_count": 19,
   "metadata": {
    "collapsed": false,
    "deletable": true,
    "editable": true,
    "slideshow": {
     "slide_type": "slide"
    }
   },
   "outputs": [
    {
     "data": {
      "text/plain": [
       "[('Tails', 1), ('Heads', 5), ('Tails', 6), ('Heads', 2), ('Tails', 1)]"
      ]
     },
     "execution_count": 19,
     "metadata": {},
     "output_type": "execute_result"
    }
   ],
   "source": [
    "import itertools as its\n",
    "def ilen(xs): return sum(1 for _ in xs)\n",
    "def run_length_encode(xs):\n",
    "    ''' Run length encodes the stream of values, xs\n",
    "    \n",
    "    The result is a stream of (value, repeat-count) pairs\n",
    "    '''\n",
    "    return ((x, ilen(g)) for x, g in its.groupby(xs))\n",
    "    \n",
    "rle = run_length_encode(flip_a_coin())\n",
    "list(its.islice(rle, 5))"
   ]
  },
  {
   "cell_type": "code",
   "execution_count": 25,
   "metadata": {
    "collapsed": false,
    "deletable": true,
    "editable": true,
    "slideshow": {
     "slide_type": "slide"
    }
   },
   "outputs": [
    {
     "data": {
      "text/plain": [
       "'AAAAAARRRRGGGGGHHH!!!!!!!!!!!!!'"
      ]
     },
     "execution_count": 25,
     "metadata": {},
     "output_type": "execute_result"
    }
   ],
   "source": [
    "def run_length_decode(vc):\n",
    "    '''Reverses run_length_encode\n",
    "    \n",
    "    Expands a stream of (value, repeat-count) pairs into \n",
    "    a stream of values.\n",
    "    '''\n",
    "    return its.chain.from_iterable(its.starmap(its.repeat, vc))\n",
    "\n",
    "scream = ('A', 6), ('R', 4), ('G', 5), ('H', 3), ('!', 13)\n",
    "''.join(run_length_decode(scream))"
   ]
  },
  {
   "cell_type": "code",
   "execution_count": 23,
   "metadata": {
    "collapsed": false,
    "deletable": true,
    "editable": true,
    "slideshow": {
     "slide_type": "slide"
    }
   },
   "outputs": [
    {
     "data": {
      "text/plain": [
       "[99.3534,\n",
       " 99.3528,\n",
       " 99.3477,\n",
       " 99.3474,\n",
       " 99.3492,\n",
       " 99.3566,\n",
       " 99.3616,\n",
       " 99.364,\n",
       " 99.3631,\n",
       " 99.3695]"
      ]
     },
     "execution_count": 23,
     "metadata": {},
     "output_type": "execute_result"
    }
   ],
   "source": [
    "import random\n",
    "\n",
    "def story_points():\n",
    "    while True:\n",
    "        yield int(random.gauss(100, 25))\n",
    "\n",
    "def smooth(xs, n=10):\n",
    "    b, e = its.tee(xs)\n",
    "    s = sum(its.islice(e, n))\n",
    "    for bn, en in zip(b, e):\n",
    "        s += en - bn\n",
    "        yield s / n\n",
    "\n",
    "take(smooth(story_points(), 10000), 10)"
   ]
  },
  {
   "cell_type": "markdown",
   "metadata": {
    "deletable": true,
    "editable": true,
    "slideshow": {
     "slide_type": "slide"
    }
   },
   "source": [
    "## Emulating Shell Syntax\n",
    "\n",
    "You have to read the expression:\n",
    "\n",
    "    take(smooth(story_points(), 10), 10)\n",
    "\n",
    "inside out.\n",
    "\n",
    "Wouldn't it be nice to borrow shell syntax?\n",
    "\n",
    "    story_points() | smooth(10) | take(10)"
   ]
  },
  {
   "cell_type": "code",
   "execution_count": 21,
   "metadata": {
    "collapsed": true,
    "deletable": true,
    "editable": true,
    "slideshow": {
     "slide_type": "slide"
    }
   },
   "outputs": [],
   "source": [
    "class pipe:\n",
    "    def __init__(self, fn):\n",
    "        self._fn = fn\n",
    "\n",
    "    def __ror__(self, other):\n",
    "        return self._fn(other)\n",
    "\n",
    "    def __call__(self, *v, **k):\n",
    "        return pipe(lambda x: self._fn(x, *v, **k))\n",
    "\n",
    "# Credit: https://github.com/JulienPalard/Pipe"
   ]
  },
  {
   "cell_type": "code",
   "execution_count": 26,
   "metadata": {
    "collapsed": false,
    "deletable": true,
    "editable": true,
    "slideshow": {
     "slide_type": "slide"
    }
   },
   "outputs": [
    {
     "data": {
      "text/plain": [
       "[87.5, 100.0, 105.5, 100.0, 95.5, 100.5, 120.5, 124.5, 111.0, 84.0]"
      ]
     },
     "execution_count": 26,
     "metadata": {},
     "output_type": "execute_result"
    }
   ],
   "source": [
    "psmooth = pipe(smooth)\n",
    "ptake = pipe(take)\n",
    "story_points() | psmooth(2) | ptake(10) "
   ]
  },
  {
   "cell_type": "code",
   "execution_count": null,
   "metadata": {
    "collapsed": false,
    "deletable": true,
    "editable": true,
    "slideshow": {
     "slide_type": "slide"
    }
   },
   "outputs": [],
   "source": [
    "@pipe\n",
    "def bounds(xs):\n",
    "    m, M = 1e9, -1e9\n",
    "    for x in xs:\n",
    "        m, M = min(m, x), max(M, x)\n",
    "        yield m, M\n",
    "\n",
    "from itertools import *\n",
    "xs = count()\n",
    "ys, xs = tee(xs)\n",
    "take(xs, 10**9)\n",
    "#next(ys)"
   ]
  },
  {
   "cell_type": "markdown",
   "metadata": {
    "collapsed": true,
    "deletable": true,
    "editable": true,
    "slideshow": {
     "slide_type": "slide"
    }
   },
   "source": [
    "# Thank you\n",
    "\n",
    "[@thomasguest](https://twitter.com/thomasguest) • [wordaligned.org](http://wordaligned.org) • [@clinithinkwales](https://twitter.com/clinithinkwales)"
   ]
  }
 ],
 "metadata": {
  "celltoolbar": "Slideshow",
  "kernelspec": {
   "display_name": "Python 3",
   "language": "python",
   "name": "python3"
  },
  "language_info": {
   "codemirror_mode": {
    "name": "ipython",
    "version": 3
   },
   "file_extension": ".py",
   "mimetype": "text/x-python",
   "name": "python",
   "nbconvert_exporter": "python",
   "pygments_lexer": "ipython3",
   "version": "3.5.3"
  }
 },
 "nbformat": 4,
 "nbformat_minor": 2
}
