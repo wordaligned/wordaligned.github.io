{
 "cells": [
  {
   "cell_type": "markdown",
   "metadata": {
    "slideshow": {
     "slide_type": "slide"
    }
   },
   "source": [
    "# Lazy sequences working hard\n",
    "\n",
    "[@thomasguest](https://twitter.com/thomasguest) • [wordaligned.org](http://wordaligned.org) • [@clinithinkwales](https://twitter.com/clinithinkwales)"
   ]
  },
  {
   "cell_type": "markdown",
   "metadata": {
    "slideshow": {
     "slide_type": "slide"
    }
   },
   "source": [
    "### Summary\n",
    "- A lazy sequence yields values when they're needed \n",
    "- This makes it possible to work with large and even infinite sequences using limited memory\n",
    "- Lazy sequences can be chained together\n",
    "- Python provides language and library level support for lazy sequences"
   ]
  },
  {
   "cell_type": "code",
   "execution_count": 2,
   "metadata": {
    "slideshow": {
     "slide_type": "slide"
    }
   },
   "outputs": [
    {
     "data": {
      "text/plain": [
       "range(0, 1000000000000000000000000000000000000000000000000000000000000000000000000000000000000000000000000000000000000000000000000000000000000000000000000000000000000000000000000000000000000000000000000000000000000000000000000000000000000000000000000000000000000000000000000000000000000000000000000000000000000)"
      ]
     },
     "execution_count": 2,
     "metadata": {},
     "output_type": "execute_result"
    }
   ],
   "source": [
    "G = 1000**100\n",
    "R = range(G)\n",
    "R"
   ]
  },
  {
   "cell_type": "code",
   "execution_count": 3,
   "metadata": {
    "slideshow": {
     "slide_type": "slide"
    }
   },
   "outputs": [
    {
     "data": {
      "text/plain": [
       "666"
      ]
     },
     "execution_count": 3,
     "metadata": {},
     "output_type": "execute_result"
    }
   ],
   "source": [
    "R[666]"
   ]
  },
  {
   "cell_type": "code",
   "execution_count": 4,
   "metadata": {
    "slideshow": {
     "slide_type": "fragment"
    }
   },
   "outputs": [
    {
     "data": {
      "text/plain": [
       "range(0, 1000000000000000000000000000000000000000000000000000000000000000000000000000000000000000000000000000000000000000000000000000000000000000000000000000000000000000000000000000000000000000000000000000000000000000000000000000000000000000000000000000000000000000000000000000000000000000000000000000000000000, 1000)"
      ]
     },
     "execution_count": 4,
     "metadata": {},
     "output_type": "execute_result"
    }
   ],
   "source": [
    "R[::1000]"
   ]
  },
  {
   "cell_type": "code",
   "execution_count": 5,
   "metadata": {
    "slideshow": {
     "slide_type": "fragment"
    }
   },
   "outputs": [
    {
     "data": {
      "text/plain": [
       "True"
      ]
     },
     "execution_count": 5,
     "metadata": {},
     "output_type": "execute_result"
    }
   ],
   "source": [
    "42 in R"
   ]
  },
  {
   "cell_type": "code",
   "execution_count": 6,
   "metadata": {
    "slideshow": {
     "slide_type": "fragment"
    }
   },
   "outputs": [
    {
     "ename": "OverflowError",
     "evalue": "Python int too large to convert to C ssize_t",
     "output_type": "error",
     "traceback": [
      "\u001b[1;31m---------------------------------------------------------------------------\u001b[0m",
      "\u001b[1;31mOverflowError\u001b[0m                             Traceback (most recent call last)",
      "\u001b[1;32m<ipython-input-6-3c42657e37a7>\u001b[0m in \u001b[0;36m<module>\u001b[1;34m()\u001b[0m\n\u001b[1;32m----> 1\u001b[1;33m \u001b[0mlen\u001b[0m\u001b[1;33m(\u001b[0m\u001b[0mR\u001b[0m\u001b[1;33m)\u001b[0m\u001b[1;33m\u001b[0m\u001b[0m\n\u001b[0m",
      "\u001b[1;31mOverflowError\u001b[0m: Python int too large to convert to C ssize_t"
     ]
    }
   ],
   "source": [
    "len(R)"
   ]
  },
  {
   "cell_type": "code",
   "execution_count": null,
   "metadata": {
    "slideshow": {
     "slide_type": "fragment"
    }
   },
   "outputs": [],
   "source": [
    "sum(R)"
   ]
  },
  {
   "cell_type": "code",
   "execution_count": 7,
   "metadata": {
    "slideshow": {
     "slide_type": "slide"
    }
   },
   "outputs": [
    {
     "name": "stdout",
     "output_type": "stream",
     "text": [
      "[0, 1, 2, 3, 4, 5, 6, 7, 8, 9] \n",
      " 10\n"
     ]
    }
   ],
   "source": [
    "def take(xs, n):\n",
    "    xs = iter(xs)\n",
    "    return [next(xs) for _ in range(n)]\n",
    "\n",
    "rs = iter(R)\n",
    "print(take(rs, 10), '\\n', next(rs))"
   ]
  },
  {
   "cell_type": "markdown",
   "metadata": {
    "slideshow": {
     "slide_type": "slide"
    }
   },
   "source": [
    "### Procrastination\n",
    "`range()` creates a range object.\n",
    "\n",
    "It's *not* a collection in memory.\n",
    "The range stores start, stop, step values, so it can be iterated over etc.\n",
    "Activity is deferred.\n",
    "\n",
    "Lazy working, not lazy thinking."
   ]
  },
  {
   "cell_type": "markdown",
   "metadata": {
    "slideshow": {
     "slide_type": "slide"
    }
   },
   "source": [
    "### Historical note \n",
    "- In Python 2 `range()` created a list and `xrange()` behaved lazily.\n",
    "- Python 3 simplifies things.\n",
    "- Lazy is sufficient."
   ]
  },
  {
   "cell_type": "code",
   "execution_count": 8,
   "metadata": {
    "slideshow": {
     "slide_type": "fragment"
    }
   },
   "outputs": [
    {
     "data": {
      "text/plain": [
       "[0, 1, 2, 3, 4, 5, 6, 7, 8, 9]"
      ]
     },
     "execution_count": 8,
     "metadata": {},
     "output_type": "execute_result"
    }
   ],
   "source": [
    "list(range(10))"
   ]
  },
  {
   "cell_type": "markdown",
   "metadata": {
    "slideshow": {
     "slide_type": "fragment"
    }
   },
   "source": [
    "See also: `map()`, `filter()`, `dict.keys()` ..."
   ]
  },
  {
   "cell_type": "markdown",
   "metadata": {
    "collapsed": true,
    "slideshow": {
     "slide_type": "slide"
    }
   },
   "source": [
    "## Lazy-*ish*\n",
    "Range objects are not *very* lazy nor *particularly* sequential. They give the illusion of being all there all the time.\n",
    "- You can get their length directly\n",
    "- You can access the value at an index\n",
    "- You can slice them\n",
    "- You can check membership"
   ]
  },
  {
   "cell_type": "markdown",
   "metadata": {
    "collapsed": true,
    "slideshow": {
     "slide_type": "slide"
    }
   },
   "source": [
    "## Generators\n",
    "Generators offer language level support for lazy sequences. \n",
    "\n",
    "Generators `yield` values one at a time. \n",
    "\n",
    "Step using `next()`, iterate using `for`.\n",
    "\n",
    "You cannot go backwards, query the length, etc."
   ]
  },
  {
   "cell_type": "code",
   "execution_count": 9,
   "metadata": {
    "slideshow": {
     "slide_type": "slide"
    }
   },
   "outputs": [
    {
     "data": {
      "text/plain": [
       "<generator object flip_a_coin at 0x000000348A978C50>"
      ]
     },
     "execution_count": 9,
     "metadata": {},
     "output_type": "execute_result"
    }
   ],
   "source": [
    "# Generator function\n",
    "import random\n",
    "\n",
    "def flip_a_coin():\n",
    "    'Generate a random sequence of Heads/Tails'\n",
    "    while True:\n",
    "        yield random.choice(['Heads', 'Tails'])\n",
    "\n",
    "flip_a_coin()"
   ]
  },
  {
   "cell_type": "code",
   "execution_count": 10,
   "metadata": {
    "slideshow": {
     "slide_type": "fragment"
    }
   },
   "outputs": [
    {
     "name": "stdout",
     "output_type": "stream",
     "text": [
      "Heads Heads\n"
     ]
    },
    {
     "data": {
      "text/plain": [
       "'Heads Heads Heads Heads Heads Heads Heads Tails Tails Tails'"
      ]
     },
     "execution_count": 10,
     "metadata": {},
     "output_type": "execute_result"
    }
   ],
   "source": [
    "ht = flip_a_coin()\n",
    "print(next(ht), next(ht))\n",
    "' '.join(next(ht) for _ in range(10))"
   ]
  },
  {
   "cell_type": "code",
   "execution_count": 11,
   "metadata": {
    "slideshow": {
     "slide_type": "slide"
    }
   },
   "outputs": [
    {
     "data": {
      "text/plain": [
       "(499857, 0.499857)"
      ]
     },
     "execution_count": 11,
     "metadata": {},
     "output_type": "execute_result"
    }
   ],
   "source": [
    "M = 1000 * 1000\n",
    "heads = sum(1 for h, _ in zip(ht, range(M)) if h == 'Heads')\n",
    "heads, heads/M"
   ]
  },
  {
   "cell_type": "code",
   "execution_count": 12,
   "metadata": {
    "slideshow": {
     "slide_type": "fragment"
    }
   },
   "outputs": [
    {
     "data": {
      "text/plain": [
       "(282, 'Tails')"
      ]
     },
     "execution_count": 12,
     "metadata": {},
     "output_type": "execute_result"
    }
   ],
   "source": [
    "import collections\n",
    "\n",
    "last10 = collections.deque(take(ht, 10), maxlen=10)\n",
    "\n",
    "tosses = enumerate(ht)\n",
    "\n",
    "while set(last10) == {'Heads', 'Tails'}:\n",
    "    last10.append(next(tosses)[1])\n",
    "\n",
    "next(tosses)"
   ]
  },
  {
   "cell_type": "code",
   "execution_count": 13,
   "metadata": {
    "slideshow": {
     "slide_type": "slide"
    }
   },
   "outputs": [
    {
     "data": {
      "text/plain": [
       "<generator object <genexpr> at 0x000000348A9B7048>"
      ]
     },
     "execution_count": 13,
     "metadata": {},
     "output_type": "execute_result"
    }
   ],
   "source": [
    "# Generator expressions look like list comprehensions\n",
    "# but they create generators, not lists\n",
    "(x * x for x in R)"
   ]
  },
  {
   "cell_type": "code",
   "execution_count": 14,
   "metadata": {
    "slideshow": {
     "slide_type": "fragment"
    }
   },
   "outputs": [
    {
     "name": "stdout",
     "output_type": "stream",
     "text": [
      "[0, 1, 4, 9, 16, 25, 36, 49, 64, 81]\n",
      "100\n"
     ]
    }
   ],
   "source": [
    "sqs = (x * x for x in R)\n",
    "print(take(sqs,10))\n",
    "print(next(sqs))"
   ]
  },
  {
   "cell_type": "markdown",
   "metadata": {
    "slideshow": {
     "slide_type": "slide"
    }
   },
   "source": [
    "## Standard Generators\n",
    "Many functions in the Python standard library are generators."
   ]
  },
  {
   "cell_type": "code",
   "execution_count": 15,
   "metadata": {
    "slideshow": {
     "slide_type": "slide"
    }
   },
   "outputs": [
    {
     "data": {
      "text/plain": [
       "('C:/Python36',\n",
       " ['DLLs',\n",
       "  'Doc',\n",
       "  'include',\n",
       "  'Lib',\n",
       "  'libs',\n",
       "  'Scripts',\n",
       "  'selenium',\n",
       "  'tcl',\n",
       "  'Tools'],\n",
       " ['LICENSE.txt',\n",
       "  'NEWS.txt',\n",
       "  'python.exe',\n",
       "  'python.pdb',\n",
       "  'python3.dll',\n",
       "  'python36.dll',\n",
       "  'python36.pdb',\n",
       "  'python36_d.dll',\n",
       "  'python36_d.pdb',\n",
       "  'python3_d.dll',\n",
       "  'pythonw.exe',\n",
       "  'pythonw.pdb',\n",
       "  'pythonw_d.exe',\n",
       "  'pythonw_d.pdb',\n",
       "  'python_d.exe',\n",
       "  'python_d.pdb',\n",
       "  'vcruntime140.dll'])"
      ]
     },
     "execution_count": 15,
     "metadata": {},
     "output_type": "execute_result"
    }
   ],
   "source": [
    "import os\n",
    "\n",
    "PY = 'C:/Python36'\n",
    "tree = os.walk(PY)\n",
    "next(tree)"
   ]
  },
  {
   "cell_type": "code",
   "execution_count": 16,
   "metadata": {
    "slideshow": {
     "slide_type": "slide"
    }
   },
   "outputs": [
    {
     "data": {
      "text/plain": [
       "['C:/Python36',\n",
       " 'C:/Python36\\\\DLLs',\n",
       " 'C:/Python36\\\\Doc',\n",
       " 'C:/Python36\\\\include',\n",
       " 'C:/Python36\\\\Lib']"
      ]
     },
     "execution_count": 16,
     "metadata": {},
     "output_type": "execute_result"
    }
   ],
   "source": [
    "subtrees = (r for r, d, f in os.walk(PY))\n",
    "take(subtrees, 5)"
   ]
  },
  {
   "cell_type": "code",
   "execution_count": 17,
   "metadata": {
    "slideshow": {
     "slide_type": "slide"
    }
   },
   "outputs": [
    {
     "data": {
      "text/plain": [
       "'C:/Python36\\\\Lib\\\\pydoc_data\\\\topics.py'"
      ]
     },
     "execution_count": 17,
     "metadata": {},
     "output_type": "execute_result"
    }
   ],
   "source": [
    "def ilen(xs):\n",
    "    \"Return the length of an iterable\"\n",
    "    return sum(1 for _ in xs)\n",
    "\n",
    "all_files = (os.path.join(r, f)\n",
    "             for r, _, ff in os.walk(PY)\n",
    "             for f in ff)\n",
    "\n",
    "py_files = (py for py in all_files if py.endswith('.py'))\n",
    "\n",
    "max(py_files, key=lambda py: ilen(open(py, errors='ignore')))"
   ]
  },
  {
   "cell_type": "markdown",
   "metadata": {
    "slideshow": {
     "slide_type": "slide"
    }
   },
   "source": [
    "## Shell Pipeline\n",
    "    $  find /c/Python36 -name \"*.py\" | xargs wc -l | grep -v total$ | sort -rn | head -1\n",
    "    12966 /c/Python36/Lib/pydoc_data/topics.py\n"
   ]
  },
  {
   "cell_type": "markdown",
   "metadata": {
    "collapsed": true,
    "slideshow": {
     "slide_type": "slide"
    }
   },
   "source": [
    "## Chunked"
   ]
  },
  {
   "cell_type": "code",
   "execution_count": 18,
   "metadata": {
    "slideshow": {
     "slide_type": "fragment"
    }
   },
   "outputs": [
    {
     "data": {
      "text/plain": [
       "[0, 1, 2]"
      ]
     },
     "execution_count": 18,
     "metadata": {},
     "output_type": "execute_result"
    }
   ],
   "source": [
    "rs = iter(R)\n",
    "r3 = [rs, rs, rs]\n",
    "[next(r) for r in r3]"
   ]
  },
  {
   "cell_type": "code",
   "execution_count": 19,
   "metadata": {
    "slideshow": {
     "slide_type": "fragment"
    }
   },
   "outputs": [
    {
     "data": {
      "text/plain": [
       "[3, 4, 5]"
      ]
     },
     "execution_count": 19,
     "metadata": {},
     "output_type": "execute_result"
    }
   ],
   "source": [
    "[next(r) for r in r3]"
   ]
  },
  {
   "cell_type": "code",
   "execution_count": 20,
   "metadata": {
    "slideshow": {
     "slide_type": "fragment"
    }
   },
   "outputs": [
    {
     "data": {
      "text/plain": [
       "[(6, 7, 8), (9, 10, 11), (12, 13, 14)]"
      ]
     },
     "execution_count": 20,
     "metadata": {},
     "output_type": "execute_result"
    }
   ],
   "source": [
    "z = zip(*r3)\n",
    "take(z, 3)"
   ]
  },
  {
   "cell_type": "code",
   "execution_count": 21,
   "metadata": {
    "slideshow": {
     "slide_type": "fragment"
    }
   },
   "outputs": [
    {
     "data": {
      "text/plain": [
       "[(0, 1000), (2000, 3000), (4000, 5000), (6000, 7000), (8000, 9000)]"
      ]
     },
     "execution_count": 21,
     "metadata": {},
     "output_type": "execute_result"
    }
   ],
   "source": [
    "def chunks(xs, n):  \n",
    "    return zip(*[iter(xs)]*n)\n",
    "\n",
    "take(chunks(R[::1000], 2), 5)"
   ]
  },
  {
   "cell_type": "markdown",
   "metadata": {
    "slideshow": {
     "slide_type": "slide"
    }
   },
   "source": [
    "## Flattened"
   ]
  },
  {
   "cell_type": "code",
   "execution_count": 22,
   "metadata": {
    "slideshow": {
     "slide_type": "fragment"
    }
   },
   "outputs": [
    {
     "data": {
      "text/plain": [
       "<itertools.chain at 0x3489510c88>"
      ]
     },
     "execution_count": 22,
     "metadata": {},
     "output_type": "execute_result"
    }
   ],
   "source": [
    "import itertools\n",
    "flatten = itertools.chain\n",
    "flatten('abc', 'def')"
   ]
  },
  {
   "cell_type": "code",
   "execution_count": 23,
   "metadata": {
    "slideshow": {
     "slide_type": "fragment"
    }
   },
   "outputs": [
    {
     "data": {
      "text/plain": [
       "['a', 'b', 'c', 'd', 'e', 'f']"
      ]
     },
     "execution_count": 23,
     "metadata": {},
     "output_type": "execute_result"
    }
   ],
   "source": [
    "list(_)"
   ]
  },
  {
   "cell_type": "code",
   "execution_count": 24,
   "metadata": {
    "slideshow": {
     "slide_type": "fragment"
    }
   },
   "outputs": [
    {
     "data": {
      "text/plain": [
       "[0, 1000, 2000, 3000, 4000]"
      ]
     },
     "execution_count": 24,
     "metadata": {},
     "output_type": "execute_result"
    }
   ],
   "source": [
    "xs = chunks(R[::1000], 2)\n",
    "flatten = itertools.chain.from_iterable\n",
    "ys = flatten(xs)\n",
    "take(ys, 5)"
   ]
  },
  {
   "cell_type": "markdown",
   "metadata": {
    "slideshow": {
     "slide_type": "slide"
    }
   },
   "source": [
    "## Itertools\n",
    "- composable functions for working with lazy sequences\n",
    "  - chain()\n",
    "  - count()\n",
    "  - islice()\n",
    "  - cycle()\n",
    "  - repeat()\n",
    "  - etc"
   ]
  },
  {
   "cell_type": "code",
   "execution_count": 25,
   "metadata": {
    "slideshow": {
     "slide_type": "slide"
    }
   },
   "outputs": [
    {
     "data": {
      "text/plain": [
       "[('Tails', 1), ('Heads', 1), ('Tails', 2), ('Heads', 1), ('Tails', 3)]"
      ]
     },
     "execution_count": 25,
     "metadata": {},
     "output_type": "execute_result"
    }
   ],
   "source": [
    "import itertools as its\n",
    "def ilen(xs): return sum(1 for _ in xs)\n",
    "def run_length_encode(xs):\n",
    "    ''' Run length encodes the stream of values, xs\n",
    "    \n",
    "    The result is a stream of (value, repeat-count) pairs\n",
    "    '''\n",
    "    return ((x, ilen(g)) for x, g in its.groupby(xs))\n",
    "    \n",
    "rle = run_length_encode(flip_a_coin())\n",
    "list(its.islice(rle, 5))"
   ]
  },
  {
   "cell_type": "code",
   "execution_count": 26,
   "metadata": {
    "slideshow": {
     "slide_type": "slide"
    }
   },
   "outputs": [
    {
     "data": {
      "text/plain": [
       "'AAAAAARRRRGGGGGHHH!!!!!!!!!!!!!'"
      ]
     },
     "execution_count": 26,
     "metadata": {},
     "output_type": "execute_result"
    }
   ],
   "source": [
    "def run_length_decode(vc):\n",
    "    '''Reverses run_length_encode\n",
    "    \n",
    "    Expands a stream of (value, repeat-count) pairs into \n",
    "    a stream of values.\n",
    "    '''\n",
    "    return its.chain.from_iterable(its.starmap(its.repeat, vc))\n",
    "\n",
    "scream = ('A', 6), ('R', 4), ('G', 5), ('H', 3), ('!', 13)\n",
    "''.join(run_length_decode(scream))"
   ]
  },
  {
   "cell_type": "code",
   "execution_count": 27,
   "metadata": {
    "slideshow": {
     "slide_type": "slide"
    }
   },
   "outputs": [
    {
     "data": {
      "text/plain": [
       "[99.2981,\n",
       " 99.3007,\n",
       " 99.2982,\n",
       " 99.3028,\n",
       " 99.3117,\n",
       " 99.3128,\n",
       " 99.3161,\n",
       " 99.3211,\n",
       " 99.3171,\n",
       " 99.3166]"
      ]
     },
     "execution_count": 27,
     "metadata": {},
     "output_type": "execute_result"
    }
   ],
   "source": [
    "import random\n",
    "\n",
    "def story_points():\n",
    "    while True:\n",
    "        yield int(random.gauss(100, 25))\n",
    "\n",
    "def smooth(xs, n=10):\n",
    "    b, e = its.tee(xs)\n",
    "    s = sum(its.islice(e, n))\n",
    "    for bn, en in zip(b, e):\n",
    "        s += en - bn\n",
    "        yield s / n\n",
    "\n",
    "take(smooth(story_points(), 10000), 10)"
   ]
  },
  {
   "cell_type": "markdown",
   "metadata": {
    "slideshow": {
     "slide_type": "slide"
    }
   },
   "source": [
    "## Emulating Shell Syntax\n",
    "\n",
    "You have to read the expression:\n",
    "\n",
    "    take(smooth(story_points(), 10), 10)\n",
    "\n",
    "inside out.\n",
    "\n",
    "Wouldn't it be nice to borrow shell syntax?\n",
    "\n",
    "    story_points() | smooth(10) | take(10)"
   ]
  },
  {
   "cell_type": "code",
   "execution_count": 28,
   "metadata": {
    "collapsed": true,
    "slideshow": {
     "slide_type": "slide"
    }
   },
   "outputs": [],
   "source": [
    "class pipe:\n",
    "    def __init__(self, fn):\n",
    "        self._fn = fn\n",
    "\n",
    "    def __ror__(self, stdin):\n",
    "        return self._fn(stdin)\n",
    "\n",
    "    def __call__(self, *v, **k):\n",
    "        return pipe(lambda x: self._fn(x, *v, **k))\n",
    "\n",
    "# Credit: https://github.com/JulienPalard/Pipe"
   ]
  },
  {
   "cell_type": "code",
   "execution_count": 29,
   "metadata": {
    "slideshow": {
     "slide_type": "slide"
    }
   },
   "outputs": [
    {
     "data": {
      "text/plain": [
       "[113.0, 129.0, 123.0, 110.5, 84.0, 74.5, 63.0, 77.0, 101.0, 117.0]"
      ]
     },
     "execution_count": 29,
     "metadata": {},
     "output_type": "execute_result"
    }
   ],
   "source": [
    "psmooth = pipe(smooth)\n",
    "ptake = pipe(take)\n",
    "story_points() | psmooth(2) | ptake(10) "
   ]
  },
  {
   "cell_type": "code",
   "execution_count": 30,
   "metadata": {
    "slideshow": {
     "slide_type": "slide"
    }
   },
   "outputs": [
    {
     "data": {
      "text/plain": [
       "[(101, 101),\n",
       " (101, 102),\n",
       " (29, 102),\n",
       " (29, 128),\n",
       " (29, 128),\n",
       " (29, 128),\n",
       " (29, 128),\n",
       " (29, 128),\n",
       " (29, 128),\n",
       " (29, 128)]"
      ]
     },
     "execution_count": 30,
     "metadata": {},
     "output_type": "execute_result"
    }
   ],
   "source": [
    "@pipe\n",
    "def bounds(xs):\n",
    "    m, M = 1e9, -1e9\n",
    "    for x in xs:\n",
    "        m, M = min(m, x), max(M, x)\n",
    "        yield m, M\n",
    "\n",
    "story_points() | bounds() | ptake(10)"
   ]
  },
  {
   "cell_type": "markdown",
   "metadata": {
    "collapsed": true,
    "slideshow": {
     "slide_type": "slide"
    }
   },
   "source": [
    "# Thank you\n",
    "\n",
    "[@thomasguest](https://twitter.com/thomasguest) • [wordaligned.org](http://wordaligned.org) • [@clinithinkwales](https://twitter.com/clinithinkwales)"
   ]
  }
 ],
 "metadata": {
  "celltoolbar": "Slideshow",
  "kernelspec": {
   "display_name": "Python 3",
   "language": "python",
   "name": "python3"
  },
  "language_info": {
   "codemirror_mode": {
    "name": "ipython",
    "version": 3
   },
   "file_extension": ".py",
   "mimetype": "text/x-python",
   "name": "python",
   "nbconvert_exporter": "python",
   "pygments_lexer": "ipython3",
   "version": "3.6.3"
  }
 },
 "nbformat": 4,
 "nbformat_minor": 2
}
